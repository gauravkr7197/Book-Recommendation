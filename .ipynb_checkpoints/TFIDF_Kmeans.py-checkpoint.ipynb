{
 "cells": [
  {
   "cell_type": "code",
   "execution_count": 17,
   "metadata": {},
   "outputs": [],
   "source": [
    "import sys, re\n",
    "from random import random\n",
    "from operator import add\n",
    "from pyspark import SparkContext, SparkConf\n",
    "from pyspark.mllib.feature import HashingTF\n",
    "from pyspark.mllib.feature import IDF\n",
    "from pyspark.mllib.linalg import SparseVector\n",
    "from pyspark.mllib.clustering import KMeans, KMeansModel\n",
    "from pyspark.mllib.linalg import SparseVector\n"
   ]
  },
  {
   "cell_type": "code",
   "execution_count": 92,
   "metadata": {
    "scrolled": true
   },
   "outputs": [
    {
     "name": "stdout",
     "output_type": "stream",
     "text": [
      "C:/Users/krgau/OneDrive/Desktop/data/t/ C:/Users/krgau/OneDrive/Desktop/data/t8/\n"
     ]
    }
   ],
   "source": [
    "if __name__ == \"__main__\":\n",
    "    conf = SparkConf()\n",
    "    conf.setAppName('Python')\n",
    "    sc = SparkContext.getOrCreate(conf=conf)\n",
    "    #sc=SparkContext.getOrCreate().setAppName=\"Python\"\n",
    "    #docsDir = sys.argv[1]\n",
    "#     outputPath = sys.argv[2]\n",
    "    docsDir= \"C:/Users/krgau/OneDrive/Desktop/data/t/\"\n",
    "    outputPath = \"C:/Users/krgau/OneDrive/Desktop/data/t8/\"\n",
    "    print(docsDir, outputPath)\n",
    "    files = sc.wholeTextFiles(docsDir)\n",
    "    names = files.keys()\n",
    "    documents = files.values().map(lambda doc: re.split('\\W+', doc))\n",
    "    hashingTF = HashingTF(1500)\n",
    "    tf = hashingTF.transform(documents)\n",
    "    idf = IDF(minDocFreq=2).fit(tf)\n",
    "    tfidf = idf.transform(tf)\n",
    "    clusters = KMeans.train(tfidf, 480, maxIterations=450)\n",
    "    "
   ]
  },
  {
   "cell_type": "code",
   "execution_count": 93,
   "metadata": {},
   "outputs": [
    {
     "name": "stdout",
     "output_type": "stream",
     "text": [
      "PythonRDD[26] at RDD at PythonRDD.scala:53\n",
      "[0, 0, 1, 1, 2, 2, 3, 3]\n"
     ]
    }
   ],
   "source": [
    "print(names)\n",
    "print(membership2)"
   ]
  },
  {
   "cell_type": "code",
   "execution_count": 94,
   "metadata": {},
   "outputs": [
    {
     "name": "stdout",
     "output_type": "stream",
     "text": [
      "cluster id: 0\n",
      "cluster id: 0\n",
      "cluster id: 1\n",
      "cluster id: 1\n",
      "cluster id: 2\n",
      "cluster id: 2\n",
      "cluster id: 3\n",
      "cluster id: 3\n",
      "{'file:/C:/Users/krgau/OneDrive/Desktop/data/t/12370-8.txt': 0, 'file:/C:/Users/krgau/OneDrive/Desktop/data/t/12370.txt': 0, 'file:/C:/Users/krgau/OneDrive/Desktop/data/t/12372-8.txt': 1, 'file:/C:/Users/krgau/OneDrive/Desktop/data/t/12372.txt': 1, 'file:/C:/Users/krgau/OneDrive/Desktop/data/t/12373-8.txt': 2, 'file:/C:/Users/krgau/OneDrive/Desktop/data/t/12373.txt': 2, 'file:/C:/Users/krgau/OneDrive/Desktop/data/t/12374-8.txt': 3, 'file:/C:/Users/krgau/OneDrive/Desktop/data/t/12374.txt': 3}\n"
     ]
    }
   ],
   "source": [
    "    membership2 = []\n",
    "    sparse_data = tfidf.collect()\n",
    "    words_map = {}\n",
    "    for i in range(len(sparse_data)):\n",
    "        clusterid = clusters.predict(sparse_data[i])\n",
    "        membership2.append(clusterid)\n",
    "        print( 'cluster id: %d' % clusterid)\n",
    "    #print(names)\n",
    "    names = names.collect()\n",
    "    dictionary = dict(zip(names, membership2))\n",
    "    clusterid = clusters.predict(tfidf).collect()\n",
    "    #names = names.collect()\n",
    "    #dictionary = dict(zip(names, clusterid))\n",
    "    print(dictionary)\n",
    "    d = sc.parallelize(dictionary.items())\n",
    "    d.saveAsTextFile(outputPath)\n",
    "    sc.stop()"
   ]
  },
  {
   "cell_type": "code",
   "execution_count": null,
   "metadata": {},
   "outputs": [],
   "source": []
  },
  {
   "cell_type": "code",
   "execution_count": null,
   "metadata": {},
   "outputs": [],
   "source": []
  }
 ],
 "metadata": {
  "kernelspec": {
   "display_name": "Python 3",
   "language": "python",
   "name": "python3"
  },
  "language_info": {
   "codemirror_mode": {
    "name": "ipython",
    "version": 3
   },
   "file_extension": ".py",
   "mimetype": "text/x-python",
   "name": "python",
   "nbconvert_exporter": "python",
   "pygments_lexer": "ipython3",
   "version": "3.6.5"
  }
 },
 "nbformat": 4,
 "nbformat_minor": 4
}
