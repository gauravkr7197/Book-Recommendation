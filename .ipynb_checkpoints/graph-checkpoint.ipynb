{
 "cells": [
  {
   "cell_type": "code",
   "execution_count": null,
   "metadata": {},
   "outputs": [],
   "source": [
    "import os\n"
   ]
  },
  {
   "cell_type": "code",
   "execution_count": 9,
   "metadata": {},
   "outputs": [],
   "source": [
    "parent_dir=\"C:/Users/krgau/AppData/Local/Temp/blockmgr-6fec1919-9845-4000-8268-e998972f46c6/\"\n",
    "os.mkdir(parent_dir)\n",
    "directory=\"1e\"  \n",
    "# Path \n",
    "path = os.path.join(parent_dir, directory) \n",
    "  \n",
    "\n",
    "os.mkdir(path) \n",
    "\n",
    " "
   ]
  },
  {
   "cell_type": "code",
   "execution_count": null,
   "metadata": {},
   "outputs": [],
   "source": []
  }
 ],
 "metadata": {
  "kernelspec": {
   "display_name": "Python 3",
   "language": "python",
   "name": "python3"
  }
 },
 "nbformat": 4,
 "nbformat_minor": 4
}
