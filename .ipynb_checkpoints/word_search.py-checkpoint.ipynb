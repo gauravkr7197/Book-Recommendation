{
 "cells": [
  {
   "cell_type": "code",
   "execution_count": 6,
   "metadata": {},
   "outputs": [],
   "source": [
    "from sklearn.feature_extraction.text import TfidfVectorizer\n",
    "import sys, re\n",
    "import numpy as np\n",
    "from random import random\n",
    "from operator import add\n",
    "import pymongo\n",
    "from pymongo import MongoClient\n",
    "import string\n",
    "import os"
   ]
  },
  {
   "cell_type": "code",
   "execution_count": 7,
   "metadata": {},
   "outputs": [],
   "source": [
    "client = MongoClient()\n",
    "db = client.bookdb\n",
    "posts = db.posts"
   ]
  },
  {
   "cell_type": "code",
   "execution_count": 10,
   "metadata": {},
   "outputs": [],
   "source": [
    "def process_input(input_string):\n",
    "\t#returns list of words in format [\"$word1\", \"$word2\", ..., \"$wordn\"]\n",
    "\t\"\"\"\n",
    "\tNext steps: \n",
    "\t- Stem texts before putting them into the database, and then stem the query\n",
    "\t  input in this function to ensure that results are not thrown off by plurals, etc.\n",
    "\t- Remove stopwords from query input as well. scores for stopwords shouldn't mater.\n",
    "\t- add in some simple rules that make this smarter. i.e. cut (\"books about\") from queries\n",
    "\t\"\"\"\n",
    "\tinput_string = input_string.translate(str.maketrans(\"\",\"\"), string.punctuation)\n",
    "\tinput_string = input_string.translate(string.punctuation)    \n",
    "\twords = input_string.split() #now a list\n",
    "\tfor i in range(len(words)):\n",
    "\t\tnew_word = \"$\" + words[i]\n",
    "\t\twords[i] = new_word  \n",
    "\treturn words"
   ]
  },
  {
   "cell_type": "code",
   "execution_count": 12,
   "metadata": {},
   "outputs": [
    {
     "ename": "SyntaxError",
     "evalue": "invalid syntax (<ipython-input-12-6a983ec381f0>, line 3)",
     "output_type": "error",
     "traceback": [
      "\u001b[1;36m  File \u001b[1;32m\"<ipython-input-12-6a983ec381f0>\"\u001b[1;36m, line \u001b[1;32m3\u001b[0m\n\u001b[1;33m    mongo query. sums values of all words in query. val is 0 if not in document.\u001b[0m\n\u001b[1;37m              ^\u001b[0m\n\u001b[1;31mSyntaxError\u001b[0m\u001b[1;31m:\u001b[0m invalid syntax\n"
     ]
    }
   ],
   "source": [
    "def query(input_str, n_results):\n",
    "\twords = process_input(input_str) #returns list of words to retrieve values for in queryable format\n",
    "\t#mongo query. sums values of all words in query. val is 0 if not in document.\n",
    "\tresults = posts.aggregate(\n",
    "\t   [\n",
    "\t     {\n",
    "\t       \"$group\":\n",
    "\t         {\n",
    "\t           \"_id\":{ \"_id\": \"$_id\", \"author\": \"$author_id_0011\", \"title\": \"$title_id_0011\" }, #features to include in output\n",
    "\t           \"totalAmount\": { \"$sum\": { \"$sum\": words}}   #format: [\"$word1\", \"$word2\", ..., \"$wordn\"]\n",
    "\t         }\n",
    "\t     },\n",
    "\t     { \n",
    "\t     \t\"$sort\": \n",
    "\t     \t { \n",
    "\t     \t\t\"totalAmount\": -1  #sort descending\n",
    "\t     \t } \n",
    "\t     },\n",
    "\t     { \n",
    "\t     \t\"$limit\" : n_results  #limit to this many results \n",
    "\t     }\n",
    "\t   ]\n",
    "\t) \n",
    "\treturn results\n",
    "\n",
    "#example of this in action:\n",
    "input_str=\"the quick brown fox jumped over the lazy dog\"\n",
    "out = query(input_str, 20)\n",
    "for i in out:\n",
    "\tprint (i)\n"
   ]
  },
  {
   "cell_type": "code",
   "execution_count": null,
   "metadata": {},
   "outputs": [],
   "source": []
  },
  {
   "cell_type": "code",
   "execution_count": null,
   "metadata": {},
   "outputs": [],
   "source": []
  }
 ],
 "metadata": {
  "kernelspec": {
   "display_name": "Python 3",
   "language": "python",
   "name": "python3"
  },
  "language_info": {
   "codemirror_mode": {
    "name": "ipython",
    "version": 3
   },
   "file_extension": ".py",
   "mimetype": "text/x-python",
   "name": "python",
   "nbconvert_exporter": "python",
   "pygments_lexer": "ipython3",
   "version": "3.6.5"
  }
 },
 "nbformat": 4,
 "nbformat_minor": 4
}
