{
 "cells": [
  {
   "cell_type": "code",
   "execution_count": null,
   "metadata": {},
   "outputs": [],
   "source": [
    "import os\n"
   ]
  },
  {
   "cell_type": "code",
   "execution_count": 9,
   "metadata": {},
   "outputs": [],
   "source": [
    "parent_dir=\"C:/Users/krgau/AppData/Local/Temp/blockmgr-6fec1919-9845-4000-8268-e998972f46c6/\"\n",
    "os.mkdir(parent_dir)\n",
    "directory=\"1e\"  \n",
    "# Path \n",
    "path = os.path.join(parent_dir, directory) \n",
    "  \n",
    "\n",
    "os.mkdir(path) \n",
    "\n",
    " "
   ]
  },
  {
   "cell_type": "code",
   "execution_count": null,
   "metadata": {},
   "outputs": [],
   "source": [
    "spark-58f48f86-7c0f-4ca3-a43e-3a4038d6cd24\\\\pyspark-61b991d1-a018-42e8-8f38-8d46e688f5c1\\\\tmpyopqszbw'"
   ]
  }
 ],
 "metadata": {
  "kernelspec": {
   "display_name": "Python 3",
   "language": "python",
   "name": "python3"
  },
  "language_info": {
   "codemirror_mode": {
    "name": "ipython",
    "version": 3
   },
   "file_extension": ".py",
   "mimetype": "text/x-python",
   "name": "python",
   "nbconvert_exporter": "python",
   "pygments_lexer": "ipython3",
   "version": "3.6.5"
  }
 },
 "nbformat": 4,
 "nbformat_minor": 4
}
