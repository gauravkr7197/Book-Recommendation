{
 "cells": [
  {
   "cell_type": "code",
   "execution_count": 1,
   "metadata": {},
   "outputs": [
    {
     "data": {
      "text/plain": [
       "'\\ndata = pd.read_csv(\"/Users/jamesledoux/Desktop/all-data.csv\")\\ndata = data.drop(\\'>\\', 1)\\ndata = data.drop(\\'(\\', 1)\\ndata = data.drop(\\'[\\', 1)\\ndata = data.drop(\\'{\\', 1)\\ndata = pd.concat([data, pd.get_dummies(data[\\'author\\'])], axis=1)   #now you have a binary variable for each author\\ndata = pd.concat([data, pd.get_dummies(data[\\'smallClusterId\\'], prefix=\"general\")], axis=1)  #and for each cluster\\ndata = pd.concat([data, pd.get_dummies(data[\\'mediumClusterId\\'], prefix=\"medium\")], axis=1) \\ndata = pd.concat([data, pd.get_dummies(data[\\'largeClusterId\\'], prefix=\"specific\")], axis=1) \\ndata = data.drop(\\'smallClusterId\\', 1)\\ndata = data.drop(\\'mediumClusterId\\', 1)\\ndata = data.drop(\\'largeClusterId\\', 1)\\n'"
      ]
     },
     "execution_count": 1,
     "metadata": {},
     "output_type": "execute_result"
    }
   ],
   "source": [
    "import pandas as pd \n",
    "from sklearn.linear_model import LinearRegression\n",
    "from sklearn.preprocessing import MinMaxScaler\n",
    "\"\"\"\n",
    "data preparation:\n",
    "drop duplicate features that have pairs (e.g. open and closed parentheses, left & right bracket, etc.)\n",
    "Create author and cluster dummies \n",
    "Save author and title names (so we can describe our predictions to a user) and then drop them (since they are string data)\n",
    "\n",
    "Scale the data to [0,1] scale by subtracting mins and then dividing by max-min\n",
    "\"\"\"\n",
    "\n",
    "\"\"\"\n",
    "feature count:\n",
    "original: 39\n",
    "with author dummies: 9813\n",
    "with cluster dummies: 9863 => 10018 => 10498\n",
    "39 general punctuation / metadata features, >9,800 author binary variables, >650 clustering features\n",
    "\"\"\"\n",
    "\n",
    "\"\"\"\n",
    "data = pd.read_csv(\"/Users/jamesledoux/Desktop/all-data.csv\")\n",
    "data = data.drop('>', 1)\n",
    "data = data.drop('(', 1)\n",
    "data = data.drop('[', 1)\n",
    "data = data.drop('{', 1)\n",
    "data = pd.concat([data, pd.get_dummies(data['author'])], axis=1)   #now you have a binary variable for each author\n",
    "data = pd.concat([data, pd.get_dummies(data['smallClusterId'], prefix=\"general\")], axis=1)  #and for each cluster\n",
    "data = pd.concat([data, pd.get_dummies(data['mediumClusterId'], prefix=\"medium\")], axis=1) \n",
    "data = pd.concat([data, pd.get_dummies(data['largeClusterId'], prefix=\"specific\")], axis=1) \n",
    "data = data.drop('smallClusterId', 1)\n",
    "data = data.drop('mediumClusterId', 1)\n",
    "data = data.drop('largeClusterId', 1)\n",
    "\"\"\""
   ]
  },
  {
   "cell_type": "code",
   "execution_count": null,
   "metadata": {},
   "outputs": [],
   "source": []
  }
 ],
 "metadata": {
  "kernelspec": {
   "display_name": "Python 3",
   "language": "python",
   "name": "python3"
  },
  "language_info": {
   "codemirror_mode": {
    "name": "ipython",
    "version": 3
   },
   "file_extension": ".py",
   "mimetype": "text/x-python",
   "name": "python",
   "nbconvert_exporter": "python",
   "pygments_lexer": "ipython3",
   "version": "3.6.5"
  }
 },
 "nbformat": 4,
 "nbformat_minor": 4
}
